{
 "cells": [
  {
   "cell_type": "code",
   "execution_count": null,
   "metadata": {},
   "outputs": [],
   "source": [
    "# read data\n",
    "data = read_csv()\n",
    "\n",
    "# Initialization\n",
    "X = data.headers    # whole list of input variables\n",
    "selected = []    # S_m-1\n",
    "remain = X - selected    # X-S_m-1\n",
    "\n",
    "max_first_mi = 0\n",
    "\n",
    "# Selection process\n",
    "# when selecting 1st variable\n",
    "for i = 1:len(X):\n",
    "    max_MI_Xj = 0\n",
    "    if i == 1:\n",
    "        max I(Xi; Y)\n",
    "        selected.append(Xi.header)\n",
    "    else:\n",
    "        for j = 1:len(remain):\n",
    "            for k = 1:len(selected):\n",
    "                sum I(Xj, Xi)\n",
    "            cal I(Xj, Xi) - 1/(m-1)*sum \n",
    "            compare to find max_MI_Xj\n",
    "    \n",
    "    if len(selected) == m:\n",
    "        stop\n",
    "                        "
   ]
  },
  {
   "cell_type": "code",
   "execution_count": 29,
   "metadata": {},
   "outputs": [
    {
     "name": "stdout",
     "output_type": "stream",
     "text": [
      "ACME 24 8\n",
      "ACME,24,8\n",
      "ACME,24,8!!\n",
      "The file already exits\n"
     ]
    },
    {
     "data": {
      "text/plain": [
       "['args-kwargs.py',\n",
       " 'basic-time-operation.py',\n",
       " 'extracting-subset-of-dictionary-using-comprehension.py',\n",
       " 'filtering-sequence-elements-using-compress.py',\n",
       " 'Finding-Commnonalities-in-Two-Dictionaries.py',\n",
       " 'group-records-based-on-field.py',\n",
       " 'Mapping_Keys_To_Multivalues_Dictionary.py',\n",
       " 'matching-text-at-start-end-of-string.py',\n",
       " 'sort-a-list-of-dictionaries-by-common-key.py',\n",
       " 'Unpacking_Elements_from_Iterables_Arbitrary_Length.py',\n",
       " 'Using_deque_for_Fixed_Sequence.py']"
      ]
     },
     "execution_count": 29,
     "metadata": {},
     "output_type": "execute_result"
    }
   ],
   "source": [
    "import os\n",
    "# --------------------------------------------------------------------------- #\n",
    "\n",
    "#### Printing to a file ####\n",
    "with open('test.txt', 'w') as f:\n",
    "    print('Hello World!', file=f)\n",
    "    print('2nd line!', file=f)\n",
    "\n",
    "# --------------------------------------------------------------------------- #\n",
    "#### Printing with a different seperator or line ending\n",
    "print('ACME', 24, 8)    # >>> ACME 24 8\n",
    "print('ACME', 24, 8, sep=',')    # >>> ACME,24,8\n",
    "print('ACME', 24, 8, sep=',', end='!!\\n')    # >>> ACME,24,8!!\n",
    "with open('test.txt', 'w') as f:\n",
    "    print('ACME', 24, 8, file=f)    # >>> ACME 24 8\n",
    "    print('ACME', 24, 8, sep=',', file=f)    # >>> ACME,24,8\n",
    "    print('ACME', 24, 8, sep=',', end='!!\\n', file=f)    # >>> ACME,24,8!!\n",
    "    \n",
    "# --------------------------------------------------------------------------- #\n",
    "#### Wring to a file that doesn't already exist\n",
    "#### Using x mode to open()\n",
    "try:\n",
    "    with open('testtt.txt', 'xt') as f:\n",
    "        f.write('Hello\\n')\n",
    "except:\n",
    "    print('The file already exits')\n",
    "    \n",
    "# --------------------------------------------------------------------------- #\n",
    "#### Manipulating pathnames\n",
    "path = 'D:/GitHub/CodeSnippet/Jupyter/test.txt'\n",
    "os.path.basename(path)    # >>> 'test.txt'\n",
    "os.path.dirname(path)    # >>> 'D:/GitHub/CodeSnippet/Jupyter'\n",
    "\n",
    "\n",
    "# --------------------------------------------------------------------------- #\n",
    "#### Getting a directory list ####\n",
    "dir_name = 'D:/GitHub/CodeSnippet/Exercise'\n",
    "names = os.listdir(dir_name)\n",
    "\n",
    "# Get all regular files\n",
    "names = [name for name in os.listdir(dir_name) if os.path.isfile(os.path.join(dir_name, name))]\n",
    "\n",
    "# Get all dirs\n",
    "dirnames = [dirname for dirname in os.listdir('D:/GitHub') if os.path.isdir(os.path.join('D:/GitHub', dirname))]\n",
    "\n",
    "# Get .py files\n",
    "pyfiles = [name for name in os.listdir(dir_name) if name.endswith('py')]"
   ]
  },
  {
   "cell_type": "code",
   "execution_count": null,
   "metadata": {},
   "outputs": [],
   "source": []
  }
 ],
 "metadata": {
  "kernelspec": {
   "display_name": "Python 3",
   "language": "python",
   "name": "python3"
  },
  "language_info": {
   "codemirror_mode": {
    "name": "ipython",
    "version": 3
   },
   "file_extension": ".py",
   "mimetype": "text/x-python",
   "name": "python",
   "nbconvert_exporter": "python",
   "pygments_lexer": "ipython3",
   "version": "3.6.7"
  }
 },
 "nbformat": 4,
 "nbformat_minor": 2
}
