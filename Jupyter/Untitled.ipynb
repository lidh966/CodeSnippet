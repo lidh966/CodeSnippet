{
 "cells": [
  {
   "cell_type": "code",
   "execution_count": 53,
   "metadata": {},
   "outputs": [
    {
     "name": "stdout",
     "output_type": "stream",
     "text": [
      "2019-06-09 18:05:36.008173\n"
     ]
    }
   ],
   "source": [
    "#### Get previous weekday by day ####\n",
    "\n",
    "from datetime import datetime, timedelta\n",
    "\n",
    "def get_previous_byday(dayname, start_date=None):\n",
    "    \"\"\"\n",
    "    dayname [string] e.g., Monday\n",
    "    start_date [datetime] if None, then now\n",
    "    -----------------------------------------------------------------------\n",
    "    return [datetime] the datetime that is last dayname\n",
    "    \"\"\"\n",
    "    weekday_list = ['Monday', 'Tuesday', 'Wednesday', 'Thursday', 'Friday', 'Saturday', 'Sunday']\n",
    "    if start_date == None:\n",
    "        start_date = datetime.today()\n",
    "    day_num = start_date.weekday()    # Get the weekday of start_date [int]\n",
    "    day_num_target = weekday_list.index(dayname.capitalize())    # Get the weekday of the given dayname\n",
    "    days_ago = (7 + day_num - day_num_target) % 7\n",
    "    # To determine if it was in the last week or current week\n",
    "    if days_ago == 0:\n",
    "        days_ago = 7\n",
    "    target_date = start_date - timedelta(days=days_ago)\n",
    "    return target_date\n",
    "\n",
    "if __name__ == '__main__':\n",
    "    x = get_previous_byday('sundaY')\n",
    "    print(x)"
   ]
  },
  {
   "cell_type": "code",
   "execution_count": 48,
   "metadata": {},
   "outputs": [
    {
     "data": {
      "text/plain": [
       "'monday'"
      ]
     },
     "execution_count": 48,
     "metadata": {},
     "output_type": "execute_result"
    }
   ],
   "source": [
    "x = 'monday'\n",
    "x.capitalize()"
   ]
  }
 ],
 "metadata": {
  "kernelspec": {
   "display_name": "Python 3",
   "language": "python",
   "name": "python3"
  },
  "language_info": {
   "codemirror_mode": {
    "name": "ipython",
    "version": 3
   },
   "file_extension": ".py",
   "mimetype": "text/x-python",
   "name": "python",
   "nbconvert_exporter": "python",
   "pygments_lexer": "ipython3",
   "version": "3.6.7"
  }
 },
 "nbformat": 4,
 "nbformat_minor": 2
}
