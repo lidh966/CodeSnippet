{
 "cells": [
  {
   "cell_type": "code",
   "execution_count": 5,
   "metadata": {},
   "outputs": [
    {
     "data": {
      "text/plain": [
       "'Sunday June 16, 2019'"
      ]
     },
     "execution_count": 5,
     "metadata": {},
     "output_type": "execute_result"
    }
   ],
   "source": [
    "#### Converting string to timestamp and vise versa ####\n",
    "#### Using datetime.strptime() & datetime.strftime() ####\n",
    "\n",
    "from datetime import datetime\n",
    "\n",
    "# string to datetime\n",
    "date_text = '2019-06-16'\n",
    "date = datetime.strptime(date_text, '%Y-%m-%d')    # >>> datetime.datetime(2019, 6, 16, 0, 0)\n",
    "\n",
    "# datetime to string\n",
    "date = datetime(2019, 6, 16, 16, 10)\n",
    "date_text = datetime.strftime(date, '%A %B %d, %Y')    # >>> 'Sunday June 16, 2019'"
   ]
  },
  {
   "cell_type": "code",
   "execution_count": null,
   "metadata": {},
   "outputs": [],
   "source": []
  }
 ],
 "metadata": {
  "kernelspec": {
   "display_name": "Python 3",
   "language": "python",
   "name": "python3"
  },
  "language_info": {
   "codemirror_mode": {
    "name": "ipython",
    "version": 3
   },
   "file_extension": ".py",
   "mimetype": "text/x-python",
   "name": "python",
   "nbconvert_exporter": "python",
   "pygments_lexer": "ipython3",
   "version": "3.6.7"
  }
 },
 "nbformat": 4,
 "nbformat_minor": 2
}
