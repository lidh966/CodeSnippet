{
 "cells": [
  {
   "cell_type": "code",
   "execution_count": 46,
   "metadata": {},
   "outputs": [],
   "source": [
    "\"\"\"\n",
    "An approach to calculate MI by implementing scikit-learn\n",
    "\n",
    "https://stackoverflow.com/questions/20491028/optimal-way-to-compute-pairwise-mutual-information-using-numpy\n",
    "\"\"\"\n",
    "\n",
    "from sklearn.metrics import mutual_info_score, adjusted_mutual_info_score\n",
    "\n",
    "def calc_MI(x, y, bins):\n",
    "    c_xy = np.histogram2d(x, y, bins)[0]\n",
    "    mi = mutual_info_score(None, None, contingency=c_xy)\n",
    "    return mi"
   ]
  },
  {
   "cell_type": "code",
   "execution_count": 15,
   "metadata": {},
   "outputs": [
    {
     "name": "stdout",
     "output_type": "stream",
     "text": [
      "0.3182570841474064\n",
      "0.3182570841474064\n",
      "0.3374678063574593\n"
     ]
    }
   ],
   "source": [
    "import numpy as np\n",
    "x = [0, 0, 0, 1, 1, 1]\n",
    "y = [0, 0, 4, 4, 4, 4]\n",
    "mi = calc_MI(x,y,bins=10)\n",
    "mi2 = mutual_info_score(x,y)\n",
    "mi3 = adjusted_mutual_info_score(x,y)\n",
    "print(mi)\n",
    "print(mi2)\n",
    "print(mi3)"
   ]
  },
  {
   "cell_type": "code",
   "execution_count": 26,
   "metadata": {},
   "outputs": [
    {
     "name": "stdout",
     "output_type": "stream",
     "text": [
      "0.1949759937189265\n",
      "1.6094379124341005\n",
      "0.17431192660550643\n"
     ]
    },
    {
     "data": {
      "text/plain": [
       "1.0"
      ]
     },
     "execution_count": 26,
     "metadata": {},
     "output_type": "execute_result"
    }
   ],
   "source": [
    "x = [52, 52, 63, 146, 363, 383, 371, 396, 393, 385]\n",
    "xx = [i*10 for i in x]\n",
    "y = [33, 33, 34, 33, 33, 34, 32, 30, 15, 2]\n",
    "mi = calc_MI(x,y,bins=10)\n",
    "mi2 = mutual_info_score(x,y)\n",
    "mi3 = adjusted_mutual_info_score(x,y)\n",
    "print(mi)\n",
    "print(mi2)\n",
    "print(mi3)\n",
    "\n",
    "adjusted_mutual_info_score(x,xx)"
   ]
  },
  {
   "cell_type": "code",
   "execution_count": 57,
   "metadata": {},
   "outputs": [
    {
     "name": "stdout",
     "output_type": "stream",
     "text": [
      "inflow-outflow: 4.92942240657937\n",
      "inflow-storage: 6.230888279731973\n",
      "storage-outflow: 6.020721451075908\n"
     ]
    }
   ],
   "source": [
    "import pandas as pd\n",
    "\n",
    "data = pd.read_csv('C:\\\\Users\\\\lidh9\\\\Desktop\\\\Book1.csv')\n",
    "inflow = data['Inflow']\n",
    "outflow = data['Outflow']\n",
    "storage = data['Storage']\n",
    "#print(f'inflow-outflow: {adjusted_mutual_info_score(inflow,outflow)}')\n",
    "#print(f'inflow-storage: {adjusted_mutual_info_score(inflow,storage)}')\n",
    "#print(f'storage-outflow: {adjusted_mutual_info_score(storage,outflow)}')\n",
    "#print(f'inflow-outflow: {calc_MI(inflow,outflow,50)}')\n",
    "#print(f'inflow-storage: {calc_MI(inflow,storage,50)}')\n",
    "#print(f'storage-outflow: {calc_MI(storage,outflow,50)}')\n",
    "print(f'inflow-outflow: {mutual_info_score(inflow,outflow)}')\n",
    "print(f'inflow-storage: {mutual_info_score(inflow,storage)}')\n",
    "print(f'storage-outflow: {mutual_info_score(storage,outflow)}')"
   ]
  },
  {
   "cell_type": "code",
   "execution_count": 62,
   "metadata": {},
   "outputs": [],
   "source": [
    "x = []\n",
    "\n",
    "for i in x:\n",
    "    print(i)"
   ]
  }
 ],
 "metadata": {
  "kernelspec": {
   "display_name": "Python 3",
   "language": "python",
   "name": "python3"
  },
  "language_info": {
   "codemirror_mode": {
    "name": "ipython",
    "version": 3
   },
   "file_extension": ".py",
   "mimetype": "text/x-python",
   "name": "python",
   "nbconvert_exporter": "python",
   "pygments_lexer": "ipython3",
   "version": "3.6.7"
  }
 },
 "nbformat": 4,
 "nbformat_minor": 2
}
