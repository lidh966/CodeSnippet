{
 "cells": [
  {
   "cell_type": "code",
   "execution_count": 1,
   "metadata": {},
   "outputs": [],
   "source": [
    "import numpy as np\n",
    "import pandas as pd\n",
    "from sklearn.metrics import mutual_info_score, adjusted_mutual_info_score"
   ]
  },
  {
   "cell_type": "code",
   "execution_count": 59,
   "metadata": {},
   "outputs": [],
   "source": [
    "# read data from .csv\n",
    "df = pd.read_csv('C:\\\\Users\\\\lidh9\\\\Desktop\\\\test\\\\Houston-startup.csv')\n",
    "df.set_index('name', drop=True, inplace=True)\n",
    "\n",
    "# get variable names into a list: X\n",
    "full_set = list(df.columns)\n",
    "full_set.remove('PPG')\n",
    "\n",
    "# Initialize Sm and X-Sm\n",
    "select = []    # Sm\n",
    "remain = [item for item in full_set if item not in select]   # X-Sm\n",
    "m = 1    # as input: how many input variables to select\n",
    "\n",
    "# Select 1st variable\n",
    "max_I = 0    # the max I\n",
    "max_column = ''    # the variable with max I\n",
    "for item in full_set:\n",
    "    I = adjusted_mutual_info_score(df[item], df['PPG'])\n",
    "    if max_I < I:\n",
    "        max_I = I\n",
    "        max_column = item\n",
    "select.append(max_column)\n",
    "remain.remove(max_column)\n",
    "\n",
    "# Select the rest variables\n",
    "while len(select) < m:  \n",
    "    max_phi = -9999\n",
    "    max_column = 'xx'\n",
    "    for xj in remain:\n",
    "        sigma_I = 0\n",
    "        for xi in select:\n",
    "            sigma_I += adjusted_mutual_info_score(df[xj], df[xi])\n",
    "        phi = adjusted_mutual_info_score(df[xj], df['PPG']) - 1/len(select)*sigma_I\n",
    "        if max_phi < phi:\n",
    "            max_phi = phi\n",
    "            max_column = xj\n",
    "    select.append(max_column)\n",
    "    remain.remove(max_column)\n",
    "\n"
   ]
  },
  {
   "cell_type": "code",
   "execution_count": 94,
   "metadata": {},
   "outputs": [
    {
     "name": "stdout",
     "output_type": "stream",
     "text": [
      "['Storage-1']\n",
      "['Storage-1', 'Release-1']\n",
      "['Storage-1', 'Release-1', 'Release-2']\n",
      "['Storage-1', 'Release-1', 'Release-2', 'Inflow']\n",
      "['Storage-1', 'Release-1', 'Release-2', 'Inflow', 'Inflow-2']\n"
     ]
    }
   ],
   "source": [
    "import sys\n",
    "\n",
    "# read data from .csv\n",
    "df = pd.read_csv('C:\\\\Users\\\\lidh9\\\\Desktop\\\\test\\\\testdata.csv')\n",
    "df.set_index('Date', drop=True, inplace=True)\n",
    "\n",
    "# get variable names into a list: X\n",
    "full_set = list(df.columns)\n",
    "full_set.remove('Release')\n",
    "\n",
    "# Initialize Sm and X-Sm\n",
    "select = []    # Sm\n",
    "remain = [item for item in full_set if item not in select]   # X-Sm\n",
    "\n",
    "m = 5    # as input: how many input variables to select\n",
    "if m > len(full_set):\n",
    "    raise Exception('Too many variables to select')\n",
    "\n",
    "\n",
    "\n",
    "# Select 1st variable\n",
    "max_I = 0    # the max I\n",
    "max_column = ''    # the variable with max I\n",
    "for item in full_set:\n",
    "    I = mutual_info_score(df[item], df['Release'])\n",
    "    #print(f'{item}: {I}')\n",
    "    if max_I < I:\n",
    "        max_I = I\n",
    "        max_column = item\n",
    "select.append(max_column)\n",
    "remain.remove(max_column)\n",
    "\n",
    "print(select)\n",
    "#sys.exit('stop here')\n",
    "\n",
    "\n",
    "# Select the rest variables\n",
    "while len(select) < m:  \n",
    "    max_phi = -9999\n",
    "    max_column = 'xx'\n",
    "    for xj in remain:\n",
    "        sigma_I = 0\n",
    "        for xi in select:\n",
    "            sigma_I += mutual_info_score(df[xj], df[xi])\n",
    "        phi = mutual_info_score(df[xj], df['Release']) - 1/len(select)*sigma_I\n",
    "        if max_phi < phi:\n",
    "            max_phi = phi\n",
    "            max_column = xj\n",
    "    select.append(max_column)\n",
    "    remain.remove(max_column)\n",
    "    print(select)"
   ]
  },
  {
   "cell_type": "code",
   "execution_count": 89,
   "metadata": {},
   "outputs": [
    {
     "data": {
      "text/plain": [
       "8"
      ]
     },
     "execution_count": 89,
     "metadata": {},
     "output_type": "execute_result"
    }
   ],
   "source": [
    "len(full_set)"
   ]
  }
 ],
 "metadata": {
  "kernelspec": {
   "display_name": "Python 3",
   "language": "python",
   "name": "python3"
  },
  "language_info": {
   "codemirror_mode": {
    "name": "ipython",
    "version": 3
   },
   "file_extension": ".py",
   "mimetype": "text/x-python",
   "name": "python",
   "nbconvert_exporter": "python",
   "pygments_lexer": "ipython3",
   "version": "3.6.7"
  }
 },
 "nbformat": 4,
 "nbformat_minor": 2
}
