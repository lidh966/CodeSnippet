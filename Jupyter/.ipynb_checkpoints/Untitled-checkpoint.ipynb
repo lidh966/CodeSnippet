{
 "cells": [
  {
   "cell_type": "code",
   "execution_count": 49,
   "metadata": {},
   "outputs": [
    {
     "ename": "SyntaxError",
     "evalue": "invalid syntax (<ipython-input-49-5a0520373572>, line 13)",
     "output_type": "error",
     "traceback": [
      "\u001b[1;36m  File \u001b[1;32m\"<ipython-input-49-5a0520373572>\"\u001b[1;36m, line \u001b[1;32m13\u001b[0m\n\u001b[1;33m    if start_date = None:\u001b[0m\n\u001b[1;37m                  ^\u001b[0m\n\u001b[1;31mSyntaxError\u001b[0m\u001b[1;31m:\u001b[0m invalid syntax\n"
     ]
    }
   ],
   "source": [
    "#### Get previous weekday by day ####\n",
    "\n",
    "from datetime import datetime, timedelta\n",
    "\n",
    "def get_previous_byday(dayname, start_date=None):\n",
    "    \"\"\"\n",
    "    dayname [string] e.g., Monday\n",
    "    start_date [datetime] if None, then now\n",
    "    -----------------------------------------------------------------------\n",
    "    return [datetime] the datetime that is last dayname\n",
    "    \"\"\"\n",
    "    weekday_list = ['Monday', 'Tuesday', 'Wednesday', 'Thursday', 'Friday', 'Saturday', 'Sunday']\n",
    "    if start_date == None:\n",
    "        start_date = datetime.today()\n",
    "    day_num = start_date.weekday()    # Get the weekday of start_date [int]\n",
    "    day_num_target = weekday_list.index(dayname.capitalize())    # Get the weekday of the given dayname\n",
    "    days_ago = (7 + day_num - day_num_target) % 7\n",
    "    # To determine if it was in the last week or current week\n",
    "    if days_ago == 0:\n",
    "        days_ago = 7\n",
    "    target_date = start_date - timedelta(days=days_ago)\n",
    "    return target_date\n",
    "\n",
    "if __name__ == '__main__':\n",
    "    get_previous_byday('monday')"
   ]
  },
  {
   "cell_type": "code",
   "execution_count": 48,
   "metadata": {},
   "outputs": [
    {
     "data": {
      "text/plain": [
       "'monday'"
      ]
     },
     "execution_count": 48,
     "metadata": {},
     "output_type": "execute_result"
    }
   ],
   "source": [
    "x = 'monday'\n",
    "x.capitalize()"
   ]
  }
 ],
 "metadata": {
  "kernelspec": {
   "display_name": "Python 3",
   "language": "python",
   "name": "python3"
  },
  "language_info": {
   "codemirror_mode": {
    "name": "ipython",
    "version": 3
   },
   "file_extension": ".py",
   "mimetype": "text/x-python",
   "name": "python",
   "nbconvert_exporter": "python",
   "pygments_lexer": "ipython3",
   "version": "3.6.7"
  }
 },
 "nbformat": 4,
 "nbformat_minor": 2
}
