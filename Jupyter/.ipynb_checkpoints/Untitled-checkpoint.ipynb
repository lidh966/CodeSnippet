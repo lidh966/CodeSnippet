{
 "cells": [
  {
   "cell_type": "code",
   "execution_count": 42,
   "metadata": {},
   "outputs": [
    {
     "data": {
      "text/plain": [
       "True"
      ]
     },
     "execution_count": 42,
     "metadata": {},
     "output_type": "execute_result"
    }
   ],
   "source": [
    "#### Using startswith() and endswith() method to match text at the start and end of a string ####\n",
    "\n",
    "filename = 'spam.txt'\n",
    "filename.endswith('.txt')    # >>> True\n",
    "\n",
    "url = 'http://www.python.org'\n",
    "url.startswith('ftp:')    # False\n",
    "url.startswith('http:')    # >>> True\n",
    "\n",
    "# Multiple choices\n",
    "# The patterns must be included in a tuple!!!\n",
    "choices = ('http:', 'ftp:')    # Put the choices in a tuple is required\n",
    "url = 'http://www.python.org'\n",
    "url.startswith(choices)"
   ]
  },
  {
   "cell_type": "code",
   "execution_count": null,
   "metadata": {},
   "outputs": [],
   "source": []
  },
  {
   "cell_type": "code",
   "execution_count": null,
   "metadata": {},
   "outputs": [],
   "source": []
  }
 ],
 "metadata": {
  "kernelspec": {
   "display_name": "Python 3",
   "language": "python",
   "name": "python3"
  },
  "language_info": {
   "codemirror_mode": {
    "name": "ipython",
    "version": 3
   },
   "file_extension": ".py",
   "mimetype": "text/x-python",
   "name": "python",
   "nbconvert_exporter": "python",
   "pygments_lexer": "ipython3",
   "version": "3.6.7"
  }
 },
 "nbformat": 4,
 "nbformat_minor": 2
}
